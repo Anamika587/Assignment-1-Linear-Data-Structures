{
 "cells": [
  {
   "cell_type": "markdown",
   "metadata": {},
   "source": [
    "# Q1. Write a program to find all pairs of an integer array whose sum is equal to a given number?\n"
   ]
  },
  {
   "cell_type": "code",
   "execution_count": 4,
   "metadata": {},
   "outputs": [
    {
     "name": "stdout",
     "output_type": "stream",
     "text": [
      "Enter integer element of an array separated by comma1,5,3,7,9\n",
      "Enter the sum value12\n",
      "[(5, 7), (3, 9)]\n"
     ]
    }
   ],
   "source": [
    "from itertools import combinations\n",
    "\n",
    "def findPairs(lst, K):\n",
    "\t\n",
    "\treturn [pair for pair in combinations(lst, 2) if sum(pair) == K]\n",
    "\t\n",
    "\n",
    "lst=list(map(int,input(\"Enter integer element of an array separated by comma\").split(\",\")))\n",
    "K = int(input(\"Enter the sum value\"))\n",
    "print(findPairs(lst, K))\n"
   ]
  },
  {
   "cell_type": "markdown",
   "metadata": {},
   "source": [
    "# Q2. Write a program to reverse an array in place? In place means you cannot create a new array. You have to update the original array.\n",
    "\n"
   ]
  },
  {
   "cell_type": "code",
   "execution_count": 8,
   "metadata": {},
   "outputs": [
    {
     "name": "stdout",
     "output_type": "stream",
     "text": [
      "Enter element of an array separated by comma1,2,3,4\n",
      "Original array is\n",
      "[1, 2, 3, 4]\n",
      "Reversed array is\n",
      "[4, 3, 2, 1]\n"
     ]
    }
   ],
   "source": [
    "def reverseArray(A):\n",
    "    print( A[::-1])\n",
    "\n",
    "A = list(map(int,input(\"Enter element of an array separated by comma\").split(\",\")))\n",
    "print(\"Original array is\")\n",
    "print(A)\n",
    "print(\"Reversed array is\")\n",
    "reverseArray(A)\n"
   ]
  },
  {
   "cell_type": "markdown",
   "metadata": {},
   "source": [
    "# Q3. Write a program to check if two strings are a rotation of each other?"
   ]
  },
  {
   "cell_type": "code",
   "execution_count": 10,
   "metadata": {},
   "outputs": [
    {
     "name": "stdout",
     "output_type": "stream",
     "text": [
      "Strings are rotations of each other\n"
     ]
    }
   ],
   "source": [
    "# Program to check if strings are rotations of\n",
    "# each other or not\n",
    "\n",
    "# Function checks if passed strings (str1 and str2)\n",
    "# are rotations of each other\n",
    "def areRotations(string1, string2):\n",
    "\tsize1 = len(string1)\n",
    "\tsize2 = len(string2)\n",
    "\ttemp = ''\n",
    "\n",
    "\t# Check if sizes of two strings are same\n",
    "\tif size1 != size2:\n",
    "\t\treturn 0\n",
    "\n",
    "\t# Create a temp string with value str1.str1\n",
    "\ttemp = string1 + string1\n",
    "\n",
    "\t# Now check if str2 is a substring of temp\n",
    "\t# string.count returns the number of occurrences of\n",
    "\t# the second string in temp\n",
    "\tif (temp.count(string2)> 0):\n",
    "\t\treturn 1\n",
    "\telse:\n",
    "\t\treturn 0\n",
    "\n",
    "# Driver program to test the above function\n",
    "string1 = \"AACD\"\n",
    "string2 = \"ACDA\"\n",
    "\n",
    "if areRotations(string1, string2):\n",
    "\tprint(\"Strings are rotations of each other\")\n",
    "else:\n",
    "\tprint(\"Strings are not rotations of each other\")\n",
    "\n",
    "\n"
   ]
  },
  {
   "cell_type": "markdown",
   "metadata": {},
   "source": [
    "# Q4. Write a program to print the first non-repeated character from a string?"
   ]
  },
  {
   "cell_type": "code",
   "execution_count": 11,
   "metadata": {},
   "outputs": [
    {
     "name": "stdout",
     "output_type": "stream",
     "text": [
      "L\n"
     ]
    }
   ],
   "source": [
    "from collections import Counter\n",
    "\n",
    "# Function which repeats\n",
    "# first Nonrepeating character\n",
    "def printNonrepeated(string):\n",
    "\n",
    "\t# Calculating frequencies\n",
    "\t# using Counter function\n",
    "\tfreq = Counter(string)\n",
    "\n",
    "\t# Traverse the string\n",
    "\tfor i in string:\n",
    "\t\tif(freq[i] == 1):\n",
    "\t\t\tprint(i)\n",
    "\t\t\tbreak\n",
    "\n",
    "\n",
    "# Driver code\n",
    "string = \"Linear Data Structures\"\n",
    "\n",
    "# passing string to printNonrepeated function\n",
    "printNonrepeated(string)\n",
    "\n",
    "\n"
   ]
  },
  {
   "cell_type": "markdown",
   "metadata": {},
   "source": [
    "# Q5. Read about the Tower of Hanoi algorithm. Write a program to implement it."
   ]
  },
  {
   "cell_type": "code",
   "execution_count": 12,
   "metadata": {},
   "outputs": [
    {
     "name": "stdout",
     "output_type": "stream",
     "text": [
      "Move disk 1 from rod A to rod B\n",
      "Move disk 2 from rod A to rod C\n",
      "Move disk 1 from rod B to rod C\n",
      "Move disk 3 from rod A to rod B\n",
      "Move disk 1 from rod C to rod A\n",
      "Move disk 2 from rod C to rod B\n",
      "Move disk 1 from rod A to rod B\n",
      "Move disk 4 from rod A to rod C\n",
      "Move disk 1 from rod B to rod C\n",
      "Move disk 2 from rod B to rod A\n",
      "Move disk 1 from rod C to rod A\n",
      "Move disk 3 from rod B to rod C\n",
      "Move disk 1 from rod A to rod B\n",
      "Move disk 2 from rod A to rod C\n",
      "Move disk 1 from rod B to rod C\n"
     ]
    }
   ],
   "source": [
    "# Recursive Python function to solve tower of hanoi\n",
    "\n",
    "def TowerOfHanoi(n , from_rod, to_rod, aux_rod):\n",
    "\tif n == 1:\n",
    "\t\tprint(\"Move disk 1 from rod\",from_rod,\"to rod\",to_rod)\n",
    "\t\treturn\n",
    "\tTowerOfHanoi(n-1, from_rod, aux_rod, to_rod)\n",
    "\tprint(\"Move disk\",n,\"from rod\",from_rod,\"to rod\",to_rod)\n",
    "\tTowerOfHanoi(n-1, aux_rod, to_rod, from_rod)\n",
    "\t\t\n",
    "# Driver code\n",
    "n = 4\n",
    "TowerOfHanoi(n, 'A', 'C', 'B')\n",
    "# A, C, B are the name of rods\n",
    "\n",
    "\n"
   ]
  },
  {
   "cell_type": "markdown",
   "metadata": {},
   "source": [
    "# Q6. Read about infix, prefix, and postfix expressions. Write a program to convert postfix to prefix expression."
   ]
  },
  {
   "cell_type": "code",
   "execution_count": 13,
   "metadata": {},
   "outputs": [
    {
     "name": "stdout",
     "output_type": "stream",
     "text": [
      "Prefix :  +AB-CD\n"
     ]
    }
   ],
   "source": [
    "# Program to convert postfix to prefix\n",
    "\n",
    "# function to check if\n",
    "# character is operator or not\n",
    "\n",
    "\n",
    "def isOperator(x):\n",
    "\n",
    "\tif x == \"+\":\n",
    "\t\treturn True\n",
    "\n",
    "\tif x == \"-\":\n",
    "\t\treturn True\n",
    "\n",
    "\tif x == \"/\":\n",
    "\t\treturn True\n",
    "\n",
    "\tif x == \"*\":\n",
    "\t\treturn True\n",
    "\n",
    "\treturn False\n",
    "\n",
    "# Convert postfix to Prefix expression\n",
    "\n",
    "\n",
    "def postToPre(post_exp):\n",
    "\n",
    "\ts = []\n",
    "\n",
    "\t# length of expression\n",
    "\tlength = len(post_exp)\n",
    "\n",
    "\t# reading from right to left\n",
    "\tfor i in range(length):\n",
    "\n",
    "\t\t# check if symbol is operator\n",
    "\t\tif (isOperator(post_exp[i])):\n",
    "\n",
    "\t\t\t# pop two operands from stack\n",
    "\t\t\top1 = s[-1]\n",
    "\t\t\ts.pop()\n",
    "\t\t\top2 = s[-1]\n",
    "\t\t\ts.pop()\n",
    "\n",
    "\t\t\t# concat the operands and operator\n",
    "\t\t\ttemp = post_exp[i] + op2 + op1\n",
    "\n",
    "\t\t\t# Push string temp back to stack\n",
    "\t\t\ts.append(temp)\n",
    "\n",
    "\t\t# if symbol is an operand\n",
    "\t\telse:\n",
    "\n",
    "\t\t\t# push the operand to the stack\n",
    "\t\t\ts.append(post_exp[i])\n",
    "\n",
    "\t\n",
    "\tans = \"\"\n",
    "\tfor i in s:\n",
    "\t\tans += i\n",
    "\treturn ans\n",
    "\n",
    "\n",
    "# Driver Code\n",
    "if __name__ == \"__main__\":\n",
    "\n",
    "\tpost_exp = \"AB+CD-\"\n",
    "\t\n",
    "\t# Function call\n",
    "\tprint(\"Prefix : \", postToPre(post_exp))\n"
   ]
  },
  {
   "cell_type": "markdown",
   "metadata": {},
   "source": [
    "# Q7. Write a program to convert prefix expression to infix expression."
   ]
  },
  {
   "cell_type": "code",
   "execution_count": 14,
   "metadata": {},
   "outputs": [
    {
     "name": "stdout",
     "output_type": "stream",
     "text": [
      "((A-(B/C))*((A/K)-L))\n"
     ]
    }
   ],
   "source": [
    "# Python Program to convert prefix to Infix\n",
    "def prefixToInfix(prefix):\n",
    "\tstack = []\n",
    "\t\n",
    "\t# read prefix in reverse order\n",
    "\ti = len(prefix) - 1\n",
    "\twhile i >= 0:\n",
    "\t\tif not isOperator(prefix[i]):\n",
    "\t\t\t\n",
    "\t\t\t# symbol is operand\n",
    "\t\t\tstack.append(prefix[i])\n",
    "\t\t\ti -= 1\n",
    "\t\telse:\n",
    "\t\t\n",
    "\t\t\t# symbol is operator\n",
    "\t\t\tstr = \"(\" + stack.pop() + prefix[i] + stack.pop() + \")\"\n",
    "\t\t\tstack.append(str)\n",
    "\t\t\ti -= 1\n",
    "\t\n",
    "\treturn stack.pop()\n",
    "\n",
    "def isOperator(c):\n",
    "\tif c == \"*\" or c == \"+\" or c == \"-\" or c == \"/\" or c == \"^\" or c == \"(\" or c == \")\":\n",
    "\t\treturn True\n",
    "\telse:\n",
    "\t\treturn False\n",
    "\n",
    "# Driver code\n",
    "if __name__==\"__main__\":\n",
    "\tstr = \"*-A/BC-/AKL\"\n",
    "\tprint(prefixToInfix(str))\n",
    "\t\n"
   ]
  },
  {
   "cell_type": "markdown",
   "metadata": {},
   "source": [
    "# Q8. Write a program to check if all the brackets are closed in a given code snippet."
   ]
  },
  {
   "cell_type": "code",
   "execution_count": 15,
   "metadata": {},
   "outputs": [
    {
     "name": "stdout",
     "output_type": "stream",
     "text": [
      "Balanced\n"
     ]
    }
   ],
   "source": [
    "# Python program to check for\n",
    "# balanced brackets.\n",
    "\n",
    "# function to check if\n",
    "# brackets are balanced\n",
    "\n",
    "\n",
    "def areBracketsBalanced(expr):\n",
    "\tstack = []\n",
    "\n",
    "\t# Traversing the Expression\n",
    "\tfor char in expr:\n",
    "\t\tif char in [\"(\", \"{\", \"[\"]:\n",
    "\n",
    "\t\t\t# Push the element in the stack\n",
    "\t\t\tstack.append(char)\n",
    "\t\telse:\n",
    "\n",
    "\t\t\t# IF current character is not opening\n",
    "\t\t\t# bracket, then it must be closing.\n",
    "\t\t\t# So stack cannot be empty at this point.\n",
    "\t\t\tif not stack:\n",
    "\t\t\t\treturn False\n",
    "\t\t\tcurrent_char = stack.pop()\n",
    "\t\t\tif current_char == '(':\n",
    "\t\t\t\tif char != \")\":\n",
    "\t\t\t\t\treturn False\n",
    "\t\t\tif current_char == '{':\n",
    "\t\t\t\tif char != \"}\":\n",
    "\t\t\t\t\treturn False\n",
    "\t\t\tif current_char == '[':\n",
    "\t\t\t\tif char != \"]\":\n",
    "\t\t\t\t\treturn False\n",
    "\n",
    "\t# Check Empty Stack\n",
    "\tif stack:\n",
    "\t\treturn False\n",
    "\treturn True\n",
    "\n",
    "\n",
    "# Driver Code\n",
    "if __name__ == \"__main__\":\n",
    "\texpr = \"{()}[]\"\n",
    "\n",
    "\t# Function call\n",
    "\tif areBracketsBalanced(expr):\n",
    "\t\tprint(\"Balanced\")\n",
    "\telse:\n",
    "\t\tprint(\"Not Balanced\")\n"
   ]
  },
  {
   "cell_type": "markdown",
   "metadata": {},
   "source": [
    "# Q9. Write a program to reverse a stack."
   ]
  },
  {
   "cell_type": "code",
   "execution_count": 19,
   "metadata": {},
   "outputs": [
    {
     "name": "stdout",
     "output_type": "stream",
     "text": [
      "Original Stack\n",
      "5\n",
      "4\n",
      "3\n",
      "2\n",
      "1\n",
      "\n",
      "Stack after Reversing\n",
      "1\n",
      "2\n",
      "3\n",
      "4\n",
      "5\n"
     ]
    }
   ],
   "source": [
    "# create class for stack\n",
    "class Stack:\n",
    "\n",
    "\t# create empty list\n",
    "\tdef __init__(self):\n",
    "\t\tself.Elements = []\n",
    "\t\t\n",
    "\t# push() for insert an element\n",
    "\tdef push(self, value):\n",
    "\t\tself.Elements.append(value)\n",
    "\t\n",
    "\t# pop() for remove an element\n",
    "\tdef pop(self):\n",
    "\t\treturn self.Elements.pop()\n",
    "\t\n",
    "\t# empty() check the stack is empty of not\n",
    "\tdef empty(self):\n",
    "\t\treturn self.Elements == []\n",
    "\t\n",
    "\t# show() display stack\n",
    "\tdef show(self):\n",
    "\t\tfor value in reversed(self.Elements):\n",
    "\t\t\tprint(value)\n",
    "\n",
    "# Insert_Bottom() insert value at bottom\n",
    "def BottomInsert(s, value):\n",
    "\n",
    "\t# check the stack is empty or not\n",
    "\tif s.empty():\n",
    "\t\t\n",
    "\t\t# if stack is empty then call\n",
    "\t\t# push() method.\n",
    "\t\ts.push(value)\n",
    "\t\t\n",
    "\t# if stack is not empty then execute\n",
    "\t# else block\n",
    "\telse:\n",
    "\t\tpopped = s.pop()\n",
    "\t\tBottomInsert(s, value)\n",
    "\t\ts.push(popped)\n",
    "\n",
    "# Reverse() reverse the stack\n",
    "def Reverse(s):\n",
    "\tif s.empty():\n",
    "\t\tpass\n",
    "\telse:\n",
    "\t\tpopped = s.pop()\n",
    "\t\tReverse(s)\n",
    "\t\tBottomInsert(s, popped)\n",
    "\n",
    "\n",
    "# create object of stack class\n",
    "stk = Stack()\n",
    "\n",
    "stk.push(1)\n",
    "stk.push(2)\n",
    "stk.push(3)\n",
    "stk.push(4)\n",
    "stk.push(5)\n",
    "\n",
    "print(\"Original Stack\")\n",
    "stk.show()\n",
    "\n",
    "print(\"\\nStack after Reversing\")\n",
    "Reverse(stk)\n",
    "stk.show()\n"
   ]
  },
  {
   "cell_type": "markdown",
   "metadata": {},
   "source": [
    "# Q10. Write a program to find the smallest number using a stack."
   ]
  },
  {
   "cell_type": "code",
   "execution_count": 21,
   "metadata": {},
   "outputs": [
    {
     "name": "stdout",
     "output_type": "stream",
     "text": [
      "Number Inserted: 3\n",
      "Number Inserted: 5\n",
      "Minimum Element in the stack is: 3\n",
      "Number Inserted: 2\n",
      "Number Inserted: 1\n",
      "Minimum Element in the stack is: 1\n",
      "Top Most Element Removed :1 \n",
      "Minimum Element in the stack is: 2\n",
      "Top Most Element Removed :2 \n",
      "Top Most Element is: 5\n"
     ]
    }
   ],
   "source": [
    "# Class to make a Node\n",
    "class Node:\n",
    "\t# Constructor which assign argument to nade's value\n",
    "\tdef __init__(self, value):\n",
    "\t\tself.value = value\n",
    "\t\tself.next = None\n",
    "\n",
    "\t# This method returns the string representation of the object.\n",
    "\tdef __str__(self):\n",
    "\t\treturn \"Node({})\".format(self.value)\n",
    "\t\n",
    "\t# __repr__ is same as __str__\n",
    "\t__repr__ = __str__\n",
    "\n",
    "\n",
    "class Stack:\n",
    "\t# Stack Constructor initialise top of stack and counter.\n",
    "\tdef __init__(self):\n",
    "\t\tself.top = None\n",
    "\t\tself.count = 0\n",
    "\t\tself.minimum = None\n",
    "\t\t\n",
    "\t# This method returns the string representation of the object (stack).\n",
    "\tdef __str__(self):\n",
    "\t\ttemp = self.top\n",
    "\t\tout = []\n",
    "\t\twhile temp:\n",
    "\t\t\tout.append(str(temp.value))\n",
    "\t\t\ttemp = temp.next\n",
    "\t\tout = '\\n'.join(out)\n",
    "\t\treturn ('Top {} \\n\\nStack :\\n{}'.format(self.top,out))\n",
    "\t\t\n",
    "\t# __repr__ is same as __str__\n",
    "\t__repr__=__str__\n",
    "\t\n",
    "\t# This method is used to get minimum element of stack\n",
    "\tdef getMin(self):\n",
    "\t\tif self.top is None:\n",
    "\t\t\treturn \"Stack is empty\"\n",
    "\t\telse:\n",
    "\t\t\tprint(\"Minimum Element in the stack is: {}\" .format(self.minimum))\n",
    "\n",
    "\n",
    "\n",
    "\t# Method to check if Stack is Empty or not\n",
    "\tdef isEmpty(self):\n",
    "\t\t# If top equals to None then stack is empty\n",
    "\t\tif self.top == None:\n",
    "\t\t\treturn True\n",
    "\t\telse:\n",
    "\t\t# If top not equal to None then stack is empty\n",
    "\t\t\treturn False\n",
    "\n",
    "\t# This method returns length of stack\t\n",
    "\tdef __len__(self):\n",
    "\t\tself.count = 0\n",
    "\t\ttempNode = self.top\n",
    "\t\twhile tempNode:\n",
    "\t\t\ttempNode = tempNode.next\n",
    "\t\t\tself.count+=1\n",
    "\t\treturn self.count\n",
    "\n",
    "\t# This method returns top of stack\t\n",
    "\tdef peek(self):\n",
    "\t\tif self.top is None:\n",
    "\t\t\tprint (\"Stack is empty\")\n",
    "\t\telse:\n",
    "\t\t\tif self.top.value < self.minimum:\n",
    "\t\t\t\tprint(\"Top Most Element is: {}\" .format(self.minimum))\n",
    "\t\t\telse:\n",
    "\t\t\t\tprint(\"Top Most Element is: {}\" .format(self.top.value))\n",
    "\n",
    "\t# This method is used to add node to stack\n",
    "\tdef push(self,value):\n",
    "\t\tif self.top is None:\n",
    "\t\t\tself.top = Node(value)\n",
    "\t\t\tself.minimum = value\n",
    "\t\t\n",
    "\t\telif value < self.minimum:\n",
    "\t\t\ttemp = (2 * value) - self.minimum\n",
    "\t\t\tnew_node = Node(temp)\n",
    "\t\t\tnew_node.next = self.top\n",
    "\t\t\tself.top = new_node\n",
    "\t\t\tself.minimum = value\n",
    "\t\telse:\n",
    "\t\t\tnew_node = Node(value)\n",
    "\t\t\tnew_node.next = self.top\n",
    "\t\t\tself.top = new_node\n",
    "\t\tprint(\"Number Inserted: {}\" .format(value))\n",
    "\n",
    "\t# This method is used to pop top of stack\n",
    "\tdef pop(self):\n",
    "\t\tif self.top is None:\n",
    "\t\t\tprint( \"Stack is empty\")\n",
    "\t\telse:\n",
    "\t\t\tremovedNode = self.top.value\n",
    "\t\t\tself.top = self.top.next\n",
    "\t\t\tif removedNode < self.minimum:\n",
    "\t\t\t\tprint (\"Top Most Element Removed :{} \" .format(self.minimum))\n",
    "\t\t\t\tself.minimum = ( ( 2 * self.minimum ) - removedNode )\n",
    "\t\t\telse:\n",
    "\t\t\t\tprint (\"Top Most Element Removed : {}\" .format(removedNode))\n",
    "\n",
    "\t\t\t\t\n",
    "\t\t\t\n",
    "\t\n",
    "# Driver program to test above class\n",
    "stack = Stack()\n",
    "\n",
    "stack.push(3)\n",
    "stack.push(5)\n",
    "stack.getMin()\n",
    "stack.push(2)\n",
    "stack.push(1)\n",
    "stack.getMin()\t\n",
    "stack.pop()\n",
    "stack.getMin()\n",
    "stack.pop()\n",
    "stack.peek()\n",
    "\n",
    "\n"
   ]
  }
 ],
 "metadata": {
  "kernelspec": {
   "display_name": "Python 3",
   "language": "python",
   "name": "python3"
  },
  "language_info": {
   "codemirror_mode": {
    "name": "ipython",
    "version": 3
   },
   "file_extension": ".py",
   "mimetype": "text/x-python",
   "name": "python",
   "nbconvert_exporter": "python",
   "pygments_lexer": "ipython3",
   "version": "3.7.9"
  }
 },
 "nbformat": 4,
 "nbformat_minor": 4
}
